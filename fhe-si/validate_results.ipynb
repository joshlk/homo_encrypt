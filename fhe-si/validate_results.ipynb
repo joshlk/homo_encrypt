{
 "cells": [
  {
   "cell_type": "markdown",
   "metadata": {},
   "source": [
    "# Regression"
   ]
  },
  {
   "cell_type": "markdown",
   "metadata": {},
   "source": [
    "** Something is going on with the moduls of the theta**\n",
    "\n",
    "If you look the the source code for printing theta:\n",
    "\n",
    "```cout << \"  theta[\" << i << \"] = \" << theta[i] % p << endl;```\n",
    "\n",
    "but p is not a nomal number it is a ZZ dtype from the NTL libary (maybe this one: http://www.shoup.net/ntl/doc/ZZ_p.txt)"
   ]
  },
  {
   "cell_type": "code",
   "execution_count": 2,
   "metadata": {
    "collapsed": true
   },
   "outputs": [],
   "source": [
    "import pandas as pd\n",
    "from matplotlib.pylab import plt\n",
    "from scipy import stats"
   ]
  },
  {
   "cell_type": "markdown",
   "metadata": {},
   "source": [
    "Output for 1d linear regression:\n",
    "\n",
    "```\n",
    "josh@turing:~/git/fhe-si$ ./tests/Test_Regression_x test_10k_1d.dat 23 7\n",
    "================================================\n",
    "Running regression tests using Brakerski system.\n",
    "================================================\n",
    "Parameters:\n",
    "  data file: test_10k_1d.dat\n",
    "  logQ: 67\n",
    "  p: 23\n",
    "  generator: 7\n",
    "  block size: 8\n",
    "  num blocks: 1250\n",
    "Running 1-dimensional regression on 10000 datapoints in 1250 blocks, modulo prime 23\n",
    "Expected values:\n",
    "  theta[0] = 18\n",
    "  Determinant: 2\n",
    "\n",
    "\n",
    "Setup time: 0.005823\n",
    "Batch time: 0.062058\n",
    "Encryption time: 0.765344\n",
    "Regression time: 0.705653\n",
    "\n",
    "Computed values:\n",
    "  theta[0] = [18]\n",
    "  Determinant: [2]\n",
    "\n",
    "Decryption time: 0.000492\n",
    "Total time: 1.53968\n",
    "```"
   ]
  },
  {
   "cell_type": "code",
   "execution_count": 5,
   "metadata": {},
   "outputs": [
    {
     "data": {
      "text/html": [
       "<div>\n",
       "<style>\n",
       "    .dataframe thead tr:only-child th {\n",
       "        text-align: right;\n",
       "    }\n",
       "\n",
       "    .dataframe thead th {\n",
       "        text-align: left;\n",
       "    }\n",
       "\n",
       "    .dataframe tbody tr th {\n",
       "        vertical-align: top;\n",
       "    }\n",
       "</style>\n",
       "<table border=\"1\" class=\"dataframe\">\n",
       "  <thead>\n",
       "    <tr style=\"text-align: right;\">\n",
       "      <th></th>\n",
       "      <th>x</th>\n",
       "      <th>y</th>\n",
       "    </tr>\n",
       "  </thead>\n",
       "  <tbody>\n",
       "    <tr>\n",
       "      <th>0</th>\n",
       "      <td>-95</td>\n",
       "      <td>-389</td>\n",
       "    </tr>\n",
       "    <tr>\n",
       "      <th>1</th>\n",
       "      <td>-50</td>\n",
       "      <td>-354</td>\n",
       "    </tr>\n",
       "    <tr>\n",
       "      <th>2</th>\n",
       "      <td>-36</td>\n",
       "      <td>-145</td>\n",
       "    </tr>\n",
       "    <tr>\n",
       "      <th>3</th>\n",
       "      <td>31</td>\n",
       "      <td>258</td>\n",
       "    </tr>\n",
       "    <tr>\n",
       "      <th>4</th>\n",
       "      <td>89</td>\n",
       "      <td>378</td>\n",
       "    </tr>\n",
       "  </tbody>\n",
       "</table>\n",
       "</div>"
      ],
      "text/plain": [
       "    x    y\n",
       "0 -95 -389\n",
       "1 -50 -354\n",
       "2 -36 -145\n",
       "3  31  258\n",
       "4  89  378"
      ]
     },
     "execution_count": 5,
     "metadata": {},
     "output_type": "execute_result"
    }
   ],
   "source": [
    "test_10k_1d = pd.read_csv('/home/josh/git/fhe-si/test_10k_1d.dat', delimiter=' ', skiprows=1, header=None,\n",
    "                          names=['x', 'y'])\n",
    "test_10k_1d.head()"
   ]
  },
  {
   "cell_type": "code",
   "execution_count": 77,
   "metadata": {},
   "outputs": [
    {
     "data": {
      "text/plain": [
       "array([ 4.29924333])"
      ]
     },
     "execution_count": 77,
     "metadata": {},
     "output_type": "execute_result"
    }
   ],
   "source": [
    "from sklearn import datasets, linear_model\n",
    "\n",
    "regr = linear_model.LinearRegression(fit_intercept=False)\n",
    "\n",
    "# Train the model using the training sets\n",
    "regr.fit(test_10k_1d[['x']].values, test_10k_1d['y'].values)\n",
    "regr.coef_"
   ]
  },
  {
   "cell_type": "code",
   "execution_count": 79,
   "metadata": {},
   "outputs": [
    {
     "data": {
      "text/plain": [
       "array([ 4.29924333])"
      ]
     },
     "execution_count": 79,
     "metadata": {},
     "output_type": "execute_result"
    }
   ],
   "source": [
    "regr.coef_ % 7"
   ]
  },
  {
   "cell_type": "code",
   "execution_count": 24,
   "metadata": {},
   "outputs": [
    {
     "data": {
      "image/png": "[encoded data removed]",
      "text/plain": [
       "<matplotlib.figure.Figure at 0x7f2363ad6fd0>"
      ]
     },
     "metadata": {},
     "output_type": "display_data"
    }
   ],
   "source": [
    "test_10k_1d.sort_values('x').set_index('x')['y'].plot()\n",
    "plt.show()"
   ]
  },
  {
   "cell_type": "code",
   "execution_count": 37,
   "metadata": {},
   "outputs": [
    {
     "data": {
      "text/plain": [
       "18.4841369075495"
      ]
     },
     "execution_count": 37,
     "metadata": {},
     "output_type": "execute_result"
    }
   ],
   "source": [
    "4.29931819101**2"
   ]
  },
  {
   "cell_type": "code",
   "execution_count": null,
   "metadata": {
    "collapsed": true
   },
   "outputs": [],
   "source": []
  },
  {
   "cell_type": "markdown",
   "metadata": {},
   "source": [
    "Output:\n",
    "```\n",
    "josh@turing:~/git/fhe-si$ ./tests/Test_Regression_x test_10k.dat 23 7\n",
    "================================================\n",
    "Running regression tests using Brakerski system.\n",
    "================================================\n",
    "Parameters:\n",
    "  data file: test_10k.dat\n",
    "  logQ: 67\n",
    "  p: 23\n",
    "  generator: 7\n",
    "  block size: 8\n",
    "  num blocks: 1250\n",
    "Running 2-dimensional regression on 10000 datapoints in 1250 blocks, modulo prime 23\n",
    "Expected values:\n",
    "  theta[0] = 12\n",
    "  theta[1] = 17\n",
    "  Determinant: 15\n",
    "\n",
    "\n",
    "Setup time: 0.007346\n",
    "Batch time: 0.062636\n",
    "Encryption time: 1.1399\n",
    "Regression time: 1.73391\n",
    "\n",
    "Computed values:\n",
    "  theta[0] = [12]\n",
    "  theta[1] = [17]\n",
    "  Determinant: [15]\n",
    "\n",
    "Decryption time: 0.000874\n",
    "Total time: 2.94519\n",
    "```"
   ]
  },
  {
   "cell_type": "code",
   "execution_count": 3,
   "metadata": {},
   "outputs": [
    {
     "data": {
      "text/html": [
       "<div>\n",
       "<style>\n",
       "    .dataframe thead tr:only-child th {\n",
       "        text-align: right;\n",
       "    }\n",
       "\n",
       "    .dataframe thead th {\n",
       "        text-align: left;\n",
       "    }\n",
       "\n",
       "    .dataframe tbody tr th {\n",
       "        vertical-align: top;\n",
       "    }\n",
       "</style>\n",
       "<table border=\"1\" class=\"dataframe\">\n",
       "  <thead>\n",
       "    <tr style=\"text-align: right;\">\n",
       "      <th></th>\n",
       "      <th>x</th>\n",
       "      <th>y</th>\n",
       "      <th>z</th>\n",
       "    </tr>\n",
       "  </thead>\n",
       "  <tbody>\n",
       "    <tr>\n",
       "      <th>0</th>\n",
       "      <td>84</td>\n",
       "      <td>-75</td>\n",
       "      <td>814</td>\n",
       "    </tr>\n",
       "    <tr>\n",
       "      <th>1</th>\n",
       "      <td>-15</td>\n",
       "      <td>19</td>\n",
       "      <td>-270</td>\n",
       "    </tr>\n",
       "    <tr>\n",
       "      <th>2</th>\n",
       "      <td>-92</td>\n",
       "      <td>7</td>\n",
       "      <td>-558</td>\n",
       "    </tr>\n",
       "    <tr>\n",
       "      <th>3</th>\n",
       "      <td>63</td>\n",
       "      <td>-32</td>\n",
       "      <td>508</td>\n",
       "    </tr>\n",
       "    <tr>\n",
       "      <th>4</th>\n",
       "      <td>-75</td>\n",
       "      <td>43</td>\n",
       "      <td>-622</td>\n",
       "    </tr>\n",
       "  </tbody>\n",
       "</table>\n",
       "</div>"
      ],
      "text/plain": [
       "    x   y    z\n",
       "0  84 -75  814\n",
       "1 -15  19 -270\n",
       "2 -92   7 -558\n",
       "3  63 -32  508\n",
       "4 -75  43 -622"
      ]
     },
     "execution_count": 3,
     "metadata": {},
     "output_type": "execute_result"
    }
   ],
   "source": [
    "test_10k = pd.read_csv('/home/josh/git/fhe-si/test_10k.dat', delimiter=' ', skiprows=1, header=None,\n",
    "                       names=['x', 'y', 'z'])\n",
    "test_10k.head()"
   ]
  },
  {
   "cell_type": "code",
   "execution_count": 48,
   "metadata": {},
   "outputs": [
    {
     "data": {
      "text/plain": [
       "array([ 4.21534502, -4.93122252])"
      ]
     },
     "execution_count": 48,
     "metadata": {},
     "output_type": "execute_result"
    }
   ],
   "source": [
    "from sklearn import datasets, linear_model\n",
    "\n",
    "regr = linear_model.LinearRegression(fit_intercept=False)\n",
    "\n",
    "# Train the model using the training sets\n",
    "regr.fit(test_10k[['x', 'y']].values, test_10k['z'].values)\n",
    "regr.coef_"
   ]
  },
  {
   "cell_type": "code",
   "execution_count": 74,
   "metadata": {},
   "outputs": [
    {
     "data": {
      "text/plain": [
       "array([  4.21534502,  18.06877748])"
      ]
     },
     "execution_count": 74,
     "metadata": {},
     "output_type": "execute_result"
    }
   ],
   "source": [
    "regr.coef_ % 23"
   ]
  },
  {
   "cell_type": "code",
   "execution_count": 71,
   "metadata": {
    "scrolled": true
   },
   "outputs": [
    {
     "data": {
      "text/plain": [
       "array([[[ 4.21534502],\n",
       "        [-4.93122252]]])"
      ]
     },
     "execution_count": 71,
     "metadata": {},
     "output_type": "execute_result"
    }
   ],
   "source": [
    "# Manual way using matrix multiplicaiton\n",
    "\n",
    "import numpy as np\n",
    "\n",
    "x = test_10k[['x','y']].values\n",
    "y = test_10k[['z']].values\n",
    "y = np.expand_dims(y, axis=0)\n",
    "\n",
    "np.matmul(np.matmul(np.linalg.inv(np.matmul(x.T, x)), x.T), y)"
   ]
  },
  {
   "cell_type": "markdown",
   "metadata": {},
   "source": [
    "# Statistics"
   ]
  },
  {
   "cell_type": "markdown",
   "metadata": {},
   "source": [
    "```\n",
    "josh@turing:~/git/fhe-si$ tests/Test_Statistics_x test_10k_1d.dat 23 7\n",
    "================================================\n",
    "Running statistics test using Brakerski system.\n",
    "================================================\n",
    "Parameters:\n",
    "  data file: test_10k_1d.dat\n",
    "  logQ: 68\n",
    "  p: 23\n",
    "  generator: 7\n",
    "  block size: 8\n",
    "  num blocks: 1250\n",
    "Performing statistical analysis on 10000 values (dimension 1) in 1250 blocks, modulo prime 23\n",
    "\n",
    "True values:\n",
    "  Mean: -2848,\n",
    "  Covariance:\n",
    "  340124648896\n",
    "\n",
    "Expected values:\n",
    "  Mean: 4,\n",
    "  N: 18\n",
    "\n",
    "  Covariance:\n",
    "  20\n",
    "\n",
    "  N^2: 2\n",
    "\n",
    "Setup time: 0.008578\n",
    "Batch time: 0.034452\n",
    "Encryption time: 0.930825\n",
    "Computation time: 0.43685\n",
    "\n",
    "Computed values:\n",
    "  Mean: [4],\n",
    "  N: [18]\n",
    "\n",
    "  Covariance:\n",
    "[20]\n",
    "\n",
    "  N^2: [2]\n",
    "\n",
    "Decryption time: 0.00113\n",
    "Total time: 1.41241\n",
    "```"
   ]
  },
  {
   "cell_type": "code",
   "execution_count": 6,
   "metadata": {},
   "outputs": [
    {
     "data": {
      "text/plain": [
       "x   -0.2848\n",
       "y   -0.3304\n",
       "dtype: float64"
      ]
     },
     "execution_count": 6,
     "metadata": {},
     "output_type": "execute_result"
    }
   ],
   "source": [
    "test_10k_1d.mean()"
   ]
  },
  {
   "cell_type": "code",
   "execution_count": 7,
   "metadata": {},
   "outputs": [
    {
     "data": {
      "text/plain": [
       "x     3401.586648\n",
       "y    72671.366372\n",
       "dtype: float64"
      ]
     },
     "execution_count": 7,
     "metadata": {},
     "output_type": "execute_result"
    }
   ],
   "source": [
    "test_10k_1d.var()"
   ]
  },
  {
   "cell_type": "markdown",
   "metadata": {},
   "source": [
    "```\n",
    "josh@turing:~/git/fhe-si$ tests/Test_Statistics_x test_10k.dat 23 7\n",
    "================================================\n",
    "Running statistics test using Brakerski system.\n",
    "================================================\n",
    "Parameters:\n",
    "  data file: test_10k.dat\n",
    "  logQ: 68\n",
    "  p: 23\n",
    "  generator: 7\n",
    "  block size: 8\n",
    "  num blocks: 1250\n",
    "Performing statistical analysis on 10000 values (dimension 2) in 1250 blocks, modulo prime 23\n",
    "\n",
    "True values:\n",
    "  Mean: 5803, -1659,\n",
    "  Covariance:\n",
    "  337991675191 6137137177\n",
    "  6137137177 331171957719\n",
    "\n",
    "Expected values:\n",
    "  Mean: 7, 20,\n",
    "  N: 18\n",
    "\n",
    "  Covariance:\n",
    "  16 4\n",
    "  4 9\n",
    "\n",
    "  N^2: 2\n",
    "\n",
    "Setup time: 0.008578\n",
    "Batch time: 0.051949\n",
    "Encryption time: 1.22704\n",
    "Computation time: 1.22445\n",
    "\n",
    "Computed values:\n",
    "  Mean: [7], [20],\n",
    "  N: [18]\n",
    "\n",
    "  Covariance:\n",
    "[16] [4]\n",
    "[4] [9]\n",
    "\n",
    "  N^2: [2]\n",
    "\n",
    "Decryption time: 0.002022\n",
    "Total time: 2.51438\n",
    "```"
   ]
  },
  {
   "cell_type": "code",
   "execution_count": 4,
   "metadata": {
    "scrolled": true
   },
   "outputs": [
    {
     "data": {
      "text/plain": [
       "x    0.5803\n",
       "y   -0.1659\n",
       "z    4.1346\n",
       "dtype: float64"
      ]
     },
     "execution_count": 4,
     "metadata": {},
     "output_type": "execute_result"
    }
   ],
   "source": [
    "test_10k.mean()"
   ]
  }
 ],
 "metadata": {
  "kernelspec": {
   "display_name": "Python 3",
   "language": "python",
   "name": "python3"
  },
  "language_info": {
   "codemirror_mode": {
    "name": "ipython",
    "version": 3
   },
   "file_extension": ".py",
   "mimetype": "text/x-python",
   "name": "python",
   "nbconvert_exporter": "python",
   "pygments_lexer": "ipython3",
   "version": "3.6.1"
  }
 },
 "nbformat": 4,
 "nbformat_minor": 2
}
